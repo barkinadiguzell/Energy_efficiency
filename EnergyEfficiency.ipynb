{
 "cells": [
  {
   "cell_type": "code",
   "execution_count": 116,
   "id": "bf989c4f-875a-478b-a44d-76a79716b272",
   "metadata": {},
   "outputs": [],
   "source": [
    "import pandas as pd\n",
    "import numpy as np\n",
    "import seaborn as sns\n",
    "from sklearn.model_selection import train_test_split, GridSearchCV\n",
    "from sklearn.metrics import mean_squared_error, r2_score\n",
    "import matplotlib.pyplot as plt\n",
    "from sklearn.preprocessing import scale\n",
    "from sklearn.preprocessing import StandardScaler\n",
    "from sklearn import model_selection\n",
    "from sklearn.linear_model import LinearRegression\n",
    "from sklearn.tree import DecisionTreeRegressor\n",
    "from sklearn.neighbors import KNeighborsRegressor\n",
    "from sklearn.neural_network import MLPRegressor\n",
    "from sklearn.ensemble import RandomForestRegressor\n",
    "from sklearn.ensemble import GradientBoostingRegressor\n",
    "from sklearn import neighbors\n",
    "from sklearn.svm import SVR\n",
    "\n",
    "from warnings import simplefilter\n",
    "from sklearn.exceptions import ConvergenceWarning\n",
    "simplefilter(\"ignore\", category=ConvergenceWarning)"
   ]
  },
  {
   "cell_type": "code",
   "execution_count": 11,
   "id": "da9acae8-32d7-449d-989b-d4104a3d84ec",
   "metadata": {},
   "outputs": [],
   "source": [
    "# load dataset\n",
    "df = pd.read_csv(\"ENB2012_data.csv\")\n",
    "\n",
    "# Assign names to Columns\n",
    "df.columns = [\"Relative_compactness\", \"Surface_area\",\"Wall_area\",\"Roof_area\",\"Overall_height\",\"Orientation\",\n",
    "              \"Glazing_area\",\"Glazing_area_distribution\",\"Heating_load\",\"Cooling_load\"]"
   ]
  },
  {
   "cell_type": "code",
   "execution_count": 12,
   "id": "55975482-a3a4-4181-ad69-38716f2d8624",
   "metadata": {},
   "outputs": [
    {
     "data": {
      "text/html": [
       "<div>\n",
       "<style scoped>\n",
       "    .dataframe tbody tr th:only-of-type {\n",
       "        vertical-align: middle;\n",
       "    }\n",
       "\n",
       "    .dataframe tbody tr th {\n",
       "        vertical-align: top;\n",
       "    }\n",
       "\n",
       "    .dataframe thead th {\n",
       "        text-align: right;\n",
       "    }\n",
       "</style>\n",
       "<table border=\"1\" class=\"dataframe\">\n",
       "  <thead>\n",
       "    <tr style=\"text-align: right;\">\n",
       "      <th></th>\n",
       "      <th>Relative_compactness</th>\n",
       "      <th>Surface_area</th>\n",
       "      <th>Wall_area</th>\n",
       "      <th>Roof_area</th>\n",
       "      <th>Overall_height</th>\n",
       "      <th>Orientation</th>\n",
       "      <th>Glazing_area</th>\n",
       "      <th>Glazing_area_distribution</th>\n",
       "      <th>Heating_load</th>\n",
       "      <th>Cooling_load</th>\n",
       "    </tr>\n",
       "  </thead>\n",
       "  <tbody>\n",
       "    <tr>\n",
       "      <th>0</th>\n",
       "      <td>0.98</td>\n",
       "      <td>514.5</td>\n",
       "      <td>294.0</td>\n",
       "      <td>110.25</td>\n",
       "      <td>7.0</td>\n",
       "      <td>2</td>\n",
       "      <td>0.0</td>\n",
       "      <td>0</td>\n",
       "      <td>15.55</td>\n",
       "      <td>21.33</td>\n",
       "    </tr>\n",
       "    <tr>\n",
       "      <th>1</th>\n",
       "      <td>0.98</td>\n",
       "      <td>514.5</td>\n",
       "      <td>294.0</td>\n",
       "      <td>110.25</td>\n",
       "      <td>7.0</td>\n",
       "      <td>3</td>\n",
       "      <td>0.0</td>\n",
       "      <td>0</td>\n",
       "      <td>15.55</td>\n",
       "      <td>21.33</td>\n",
       "    </tr>\n",
       "    <tr>\n",
       "      <th>2</th>\n",
       "      <td>0.98</td>\n",
       "      <td>514.5</td>\n",
       "      <td>294.0</td>\n",
       "      <td>110.25</td>\n",
       "      <td>7.0</td>\n",
       "      <td>4</td>\n",
       "      <td>0.0</td>\n",
       "      <td>0</td>\n",
       "      <td>15.55</td>\n",
       "      <td>21.33</td>\n",
       "    </tr>\n",
       "    <tr>\n",
       "      <th>3</th>\n",
       "      <td>0.98</td>\n",
       "      <td>514.5</td>\n",
       "      <td>294.0</td>\n",
       "      <td>110.25</td>\n",
       "      <td>7.0</td>\n",
       "      <td>5</td>\n",
       "      <td>0.0</td>\n",
       "      <td>0</td>\n",
       "      <td>15.55</td>\n",
       "      <td>21.33</td>\n",
       "    </tr>\n",
       "    <tr>\n",
       "      <th>4</th>\n",
       "      <td>0.90</td>\n",
       "      <td>563.5</td>\n",
       "      <td>318.5</td>\n",
       "      <td>122.50</td>\n",
       "      <td>7.0</td>\n",
       "      <td>2</td>\n",
       "      <td>0.0</td>\n",
       "      <td>0</td>\n",
       "      <td>20.84</td>\n",
       "      <td>28.28</td>\n",
       "    </tr>\n",
       "  </tbody>\n",
       "</table>\n",
       "</div>"
      ],
      "text/plain": [
       "   Relative_compactness  Surface_area  Wall_area  Roof_area  Overall_height  \\\n",
       "0                  0.98         514.5      294.0     110.25             7.0   \n",
       "1                  0.98         514.5      294.0     110.25             7.0   \n",
       "2                  0.98         514.5      294.0     110.25             7.0   \n",
       "3                  0.98         514.5      294.0     110.25             7.0   \n",
       "4                  0.90         563.5      318.5     122.50             7.0   \n",
       "\n",
       "   Orientation  Glazing_area  Glazing_area_distribution  Heating_load  \\\n",
       "0            2           0.0                          0         15.55   \n",
       "1            3           0.0                          0         15.55   \n",
       "2            4           0.0                          0         15.55   \n",
       "3            5           0.0                          0         15.55   \n",
       "4            2           0.0                          0         20.84   \n",
       "\n",
       "   Cooling_load  \n",
       "0         21.33  \n",
       "1         21.33  \n",
       "2         21.33  \n",
       "3         21.33  \n",
       "4         28.28  "
      ]
     },
     "execution_count": 12,
     "metadata": {},
     "output_type": "execute_result"
    }
   ],
   "source": [
    "df.head()"
   ]
  },
  {
   "cell_type": "code",
   "execution_count": 13,
   "id": "f0adedf4-d4f3-4a87-9b1b-0d4910f49156",
   "metadata": {},
   "outputs": [
    {
     "data": {
      "text/html": [
       "<div>\n",
       "<style scoped>\n",
       "    .dataframe tbody tr th:only-of-type {\n",
       "        vertical-align: middle;\n",
       "    }\n",
       "\n",
       "    .dataframe tbody tr th {\n",
       "        vertical-align: top;\n",
       "    }\n",
       "\n",
       "    .dataframe thead th {\n",
       "        text-align: right;\n",
       "    }\n",
       "</style>\n",
       "<table border=\"1\" class=\"dataframe\">\n",
       "  <thead>\n",
       "    <tr style=\"text-align: right;\">\n",
       "      <th></th>\n",
       "      <th>count</th>\n",
       "      <th>mean</th>\n",
       "      <th>std</th>\n",
       "      <th>min</th>\n",
       "      <th>25%</th>\n",
       "      <th>50%</th>\n",
       "      <th>75%</th>\n",
       "      <th>max</th>\n",
       "    </tr>\n",
       "  </thead>\n",
       "  <tbody>\n",
       "    <tr>\n",
       "      <th>Relative_compactness</th>\n",
       "      <td>768.0</td>\n",
       "      <td>0.764167</td>\n",
       "      <td>0.105777</td>\n",
       "      <td>0.62</td>\n",
       "      <td>0.6825</td>\n",
       "      <td>0.75</td>\n",
       "      <td>0.8300</td>\n",
       "      <td>0.98</td>\n",
       "    </tr>\n",
       "    <tr>\n",
       "      <th>Surface_area</th>\n",
       "      <td>768.0</td>\n",
       "      <td>671.708333</td>\n",
       "      <td>88.086116</td>\n",
       "      <td>514.50</td>\n",
       "      <td>606.3750</td>\n",
       "      <td>673.75</td>\n",
       "      <td>741.1250</td>\n",
       "      <td>808.50</td>\n",
       "    </tr>\n",
       "    <tr>\n",
       "      <th>Wall_area</th>\n",
       "      <td>768.0</td>\n",
       "      <td>318.500000</td>\n",
       "      <td>43.626481</td>\n",
       "      <td>245.00</td>\n",
       "      <td>294.0000</td>\n",
       "      <td>318.50</td>\n",
       "      <td>343.0000</td>\n",
       "      <td>416.50</td>\n",
       "    </tr>\n",
       "    <tr>\n",
       "      <th>Roof_area</th>\n",
       "      <td>768.0</td>\n",
       "      <td>176.604167</td>\n",
       "      <td>45.165950</td>\n",
       "      <td>110.25</td>\n",
       "      <td>140.8750</td>\n",
       "      <td>183.75</td>\n",
       "      <td>220.5000</td>\n",
       "      <td>220.50</td>\n",
       "    </tr>\n",
       "    <tr>\n",
       "      <th>Overall_height</th>\n",
       "      <td>768.0</td>\n",
       "      <td>5.250000</td>\n",
       "      <td>1.751140</td>\n",
       "      <td>3.50</td>\n",
       "      <td>3.5000</td>\n",
       "      <td>5.25</td>\n",
       "      <td>7.0000</td>\n",
       "      <td>7.00</td>\n",
       "    </tr>\n",
       "    <tr>\n",
       "      <th>Orientation</th>\n",
       "      <td>768.0</td>\n",
       "      <td>3.500000</td>\n",
       "      <td>1.118763</td>\n",
       "      <td>2.00</td>\n",
       "      <td>2.7500</td>\n",
       "      <td>3.50</td>\n",
       "      <td>4.2500</td>\n",
       "      <td>5.00</td>\n",
       "    </tr>\n",
       "    <tr>\n",
       "      <th>Glazing_area</th>\n",
       "      <td>768.0</td>\n",
       "      <td>0.234375</td>\n",
       "      <td>0.133221</td>\n",
       "      <td>0.00</td>\n",
       "      <td>0.1000</td>\n",
       "      <td>0.25</td>\n",
       "      <td>0.4000</td>\n",
       "      <td>0.40</td>\n",
       "    </tr>\n",
       "    <tr>\n",
       "      <th>Glazing_area_distribution</th>\n",
       "      <td>768.0</td>\n",
       "      <td>2.812500</td>\n",
       "      <td>1.550960</td>\n",
       "      <td>0.00</td>\n",
       "      <td>1.7500</td>\n",
       "      <td>3.00</td>\n",
       "      <td>4.0000</td>\n",
       "      <td>5.00</td>\n",
       "    </tr>\n",
       "    <tr>\n",
       "      <th>Heating_load</th>\n",
       "      <td>768.0</td>\n",
       "      <td>22.307201</td>\n",
       "      <td>10.090196</td>\n",
       "      <td>6.01</td>\n",
       "      <td>12.9925</td>\n",
       "      <td>18.95</td>\n",
       "      <td>31.6675</td>\n",
       "      <td>43.10</td>\n",
       "    </tr>\n",
       "    <tr>\n",
       "      <th>Cooling_load</th>\n",
       "      <td>768.0</td>\n",
       "      <td>24.587760</td>\n",
       "      <td>9.513306</td>\n",
       "      <td>10.90</td>\n",
       "      <td>15.6200</td>\n",
       "      <td>22.08</td>\n",
       "      <td>33.1325</td>\n",
       "      <td>48.03</td>\n",
       "    </tr>\n",
       "  </tbody>\n",
       "</table>\n",
       "</div>"
      ],
      "text/plain": [
       "                           count        mean        std     min       25%  \\\n",
       "Relative_compactness       768.0    0.764167   0.105777    0.62    0.6825   \n",
       "Surface_area               768.0  671.708333  88.086116  514.50  606.3750   \n",
       "Wall_area                  768.0  318.500000  43.626481  245.00  294.0000   \n",
       "Roof_area                  768.0  176.604167  45.165950  110.25  140.8750   \n",
       "Overall_height             768.0    5.250000   1.751140    3.50    3.5000   \n",
       "Orientation                768.0    3.500000   1.118763    2.00    2.7500   \n",
       "Glazing_area               768.0    0.234375   0.133221    0.00    0.1000   \n",
       "Glazing_area_distribution  768.0    2.812500   1.550960    0.00    1.7500   \n",
       "Heating_load               768.0   22.307201  10.090196    6.01   12.9925   \n",
       "Cooling_load               768.0   24.587760   9.513306   10.90   15.6200   \n",
       "\n",
       "                              50%       75%     max  \n",
       "Relative_compactness         0.75    0.8300    0.98  \n",
       "Surface_area               673.75  741.1250  808.50  \n",
       "Wall_area                  318.50  343.0000  416.50  \n",
       "Roof_area                  183.75  220.5000  220.50  \n",
       "Overall_height               5.25    7.0000    7.00  \n",
       "Orientation                  3.50    4.2500    5.00  \n",
       "Glazing_area                 0.25    0.4000    0.40  \n",
       "Glazing_area_distribution    3.00    4.0000    5.00  \n",
       "Heating_load                18.95   31.6675   43.10  \n",
       "Cooling_load                22.08   33.1325   48.03  "
      ]
     },
     "execution_count": 13,
     "metadata": {},
     "output_type": "execute_result"
    }
   ],
   "source": [
    "df.describe().T"
   ]
  },
  {
   "cell_type": "code",
   "execution_count": 14,
   "id": "4de07ea4-8658-4e13-8d9b-d81c6abfd816",
   "metadata": {},
   "outputs": [
    {
     "data": {
      "text/plain": [
       "Relative_compactness         0\n",
       "Surface_area                 0\n",
       "Wall_area                    0\n",
       "Roof_area                    0\n",
       "Overall_height               0\n",
       "Orientation                  0\n",
       "Glazing_area                 0\n",
       "Glazing_area_distribution    0\n",
       "Heating_load                 0\n",
       "Cooling_load                 0\n",
       "dtype: int64"
      ]
     },
     "execution_count": 14,
     "metadata": {},
     "output_type": "execute_result"
    }
   ],
   "source": [
    "# check missingvalue\n",
    "df.isnull().sum()"
   ]
  },
  {
   "cell_type": "code",
   "execution_count": 15,
   "id": "c396c849-1b48-4aa2-a525-134193189434",
   "metadata": {},
   "outputs": [
    {
     "name": "stdout",
     "output_type": "stream",
     "text": [
      "Shape :  (768, 10)\n"
     ]
    }
   ],
   "source": [
    "print(\"Shape : \",df.shape)"
   ]
  },
  {
   "cell_type": "code",
   "execution_count": 16,
   "id": "10e96067-c979-4b64-882c-2668abbc0cd5",
   "metadata": {},
   "outputs": [],
   "source": [
    "df_Heating_load = df[\"Heating_load\"]\n",
    "df_Cooling_load = df[\"Cooling_load\"]"
   ]
  },
  {
   "cell_type": "code",
   "execution_count": 17,
   "id": "9dba8498-7464-4d4d-a76a-f6743ec7828b",
   "metadata": {},
   "outputs": [
    {
     "data": {
      "text/plain": [
       "<AxesSubplot:xlabel='Heating_load'>"
      ]
     },
     "execution_count": 17,
     "metadata": {},
     "output_type": "execute_result"
    },
    {
     "data": {
      "image/png": "[encoded data removed]",
      "text/plain": [
       "<Figure size 432x288 with 1 Axes>"
      ]
     },
     "metadata": {
      "needs_background": "light"
     },
     "output_type": "display_data"
    }
   ],
   "source": [
    "# check the contrary observation\n",
    "sns.boxplot(x = df_Heating_load)"
   ]
  },
  {
   "cell_type": "code",
   "execution_count": 18,
   "id": "9dcbc778-0362-4711-8cce-b1f83c50cba4",
   "metadata": {},
   "outputs": [
    {
     "data": {
      "text/plain": [
       "<AxesSubplot:xlabel='Cooling_load'>"
      ]
     },
     "execution_count": 18,
     "metadata": {},
     "output_type": "execute_result"
    },
    {
     "data": {
      "image/png": "[encoded data removed]",
      "text/plain": [
       "<Figure size 432x288 with 1 Axes>"
      ]
     },
     "metadata": {
      "needs_background": "light"
     },
     "output_type": "display_data"
    }
   ],
   "source": [
    "sns.boxplot(x = df_Cooling_load)"
   ]
  },
  {
   "cell_type": "markdown",
   "id": "3ee20107-6530-4bea-8075-19be007fdf9e",
   "metadata": {},
   "source": [
    "We do not have any contradictory observations.<br>\n",
    "This gives us convenience."
   ]
  },
  {
   "cell_type": "markdown",
   "id": "f07e2563-0f94-406b-9816-2a5dfe6d364d",
   "metadata": {},
   "source": [
    "- We have two dependent variables.\n",
    "- First is **\"Heating_load\".**\n",
    "- Second is **\"Cooling_load\".**"
   ]
  },
  {
   "cell_type": "code",
   "execution_count": 19,
   "id": "f115f8e5-5c27-4e88-8e23-d6fc5a8e60e1",
   "metadata": {},
   "outputs": [],
   "source": [
    "Y = df.iloc[:,8:]\n",
    "X = df.iloc[:,:8]"
   ]
  },
  {
   "cell_type": "markdown",
   "id": "ad809310-1517-4695-a47b-48360d47ce0c",
   "metadata": {},
   "source": [
    "### KNN"
   ]
  },
  {
   "cell_type": "code",
   "execution_count": 57,
   "id": "99811e52-0a3a-4071-bd6e-20d44f41673f",
   "metadata": {},
   "outputs": [],
   "source": [
    "X_train, X_test, Y_train, Y_test = train_test_split(X, Y, test_size = 0.33, random_state = 99)"
   ]
  },
  {
   "cell_type": "code",
   "execution_count": 58,
   "id": "7974d903-465e-4d62-8453-fa05678c707c",
   "metadata": {},
   "outputs": [],
   "source": [
    "knn_model = KNeighborsRegressor().fit(X_train, Y_train)"
   ]
  },
  {
   "cell_type": "code",
   "execution_count": 59,
   "id": "c569fabd-b103-4be0-a853-03d61f944f43",
   "metadata": {},
   "outputs": [
    {
     "name": "stdout",
     "output_type": "stream",
     "text": [
      "n_neighbors: 5\n",
      "knn_model: minkowski\n"
     ]
    }
   ],
   "source": [
    "print(\"n_neighbors:\",knn_model.n_neighbors)\n",
    "print(\"knn_model:\",knn_model.metric)"
   ]
  },
  {
   "cell_type": "code",
   "execution_count": 60,
   "id": "131a7d93-0756-4a2d-b8ff-c4829be47f64",
   "metadata": {},
   "outputs": [],
   "source": [
    "y_pred = knn_model.predict(X_test)"
   ]
  },
  {
   "cell_type": "code",
   "execution_count": 61,
   "id": "cd477fd5-b743-4f96-9f89-7b55c1b2b6ad",
   "metadata": {},
   "outputs": [
    {
     "data": {
      "text/plain": [
       "2.394342156460669"
      ]
     },
     "execution_count": 61,
     "metadata": {},
     "output_type": "execute_result"
    }
   ],
   "source": [
    "np.sqrt(mean_squared_error(Y_test, y_pred))"
   ]
  },
  {
   "cell_type": "markdown",
   "id": "79cc4dfd-3942-463a-a809-1e82dc44b892",
   "metadata": {},
   "source": [
    "#### Tuning"
   ]
  },
  {
   "cell_type": "code",
   "execution_count": 62,
   "id": "2c4534b2-db53-415f-b1a7-87b959839def",
   "metadata": {},
   "outputs": [
    {
     "name": "stdout",
     "output_type": "stream",
     "text": [
      "neigbors:  1 for RMSE values:  2.979339222835227\n",
      "neigbors:  2 for RMSE values:  2.694586664649532\n",
      "neigbors:  3 for RMSE values:  2.242279663281089\n",
      "neigbors:  4 for RMSE values:  2.2827833213910727\n",
      "neigbors:  5 for RMSE values:  2.394342156460669\n",
      "neigbors:  6 for RMSE values:  2.567670670412638\n",
      "neigbors:  7 for RMSE values:  2.719265987808807\n",
      "neigbors:  8 for RMSE values:  2.701166129476399\n",
      "neigbors:  9 for RMSE values:  2.7072955339411324\n",
      "neigbors:  10 for RMSE values:  2.7429237848988404\n",
      "neigbors:  11 for RMSE values:  2.7413728371998682\n",
      "neigbors:  12 for RMSE values:  2.7488334537614203\n",
      "neigbors:  13 for RMSE values:  2.7699120719130454\n",
      "neigbors:  14 for RMSE values:  2.7868995401850056\n",
      "neigbors:  15 for RMSE values:  2.8299727052899137\n",
      "neigbors:  16 for RMSE values:  2.86301339327166\n",
      "neigbors:  17 for RMSE values:  2.8896456890536513\n",
      "neigbors:  18 for RMSE values:  2.9042518080517374\n",
      "neigbors:  19 for RMSE values:  2.8991345162197906\n",
      "neigbors:  20 for RMSE values:  2.9054586135275207\n"
     ]
    }
   ],
   "source": [
    "RMSE = []\n",
    "\n",
    "for neighbors in range (20):\n",
    "    neighbors = neighbors + 1\n",
    "    knn_model = KNeighborsRegressor(n_neighbors = neighbors).fit(X_train, Y_train)\n",
    "    y_pred = knn_model.predict(X_test)\n",
    "    rmse = np.sqrt(mean_squared_error(Y_test,y_pred))\n",
    "    RMSE.append(rmse)\n",
    "    print(\"neigbors: \",neighbors, \"for RMSE values: \",rmse )"
   ]
  },
  {
   "cell_type": "markdown",
   "id": "9e6fd56d-cabd-472d-bdec-c762ce2cd095",
   "metadata": {},
   "source": [
    "- Best n_neighbors = 3 "
   ]
  },
  {
   "cell_type": "code",
   "execution_count": 63,
   "id": "1a8cdf5d-c973-4e39-8845-066f9ec922b1",
   "metadata": {},
   "outputs": [],
   "source": [
    "# Thanks The GridSearchCV, We can find best_params quickly.\n",
    "knn_params = {\"n_neighbors\": np.arange(1,30,1)}\n",
    "knn = KNeighborsRegressor()"
   ]
  },
  {
   "cell_type": "code",
   "execution_count": 64,
   "id": "4507d8e1-a5b8-4f1b-8771-60a8fd62c5ed",
   "metadata": {},
   "outputs": [],
   "source": [
    "knn_cv_model = GridSearchCV(knn, knn_params, cv = 10).fit(X_train,Y_train)"
   ]
  },
  {
   "cell_type": "code",
   "execution_count": 65,
   "id": "786a3fbd-758d-4b71-b5cb-40266c6a0168",
   "metadata": {},
   "outputs": [
    {
     "data": {
      "text/plain": [
       "{'n_neighbors': 3}"
      ]
     },
     "execution_count": 65,
     "metadata": {},
     "output_type": "execute_result"
    }
   ],
   "source": [
    "knn_cv_model.best_params_"
   ]
  },
  {
   "cell_type": "code",
   "execution_count": 66,
   "id": "64bf26f0-b55c-498a-92b1-c562011829d7",
   "metadata": {},
   "outputs": [],
   "source": [
    "# Final model \n",
    "knn_final = KNeighborsRegressor(n_neighbors = knn_cv_model.best_params_[\"n_neighbors\"]).fit(X_train,Y_train)"
   ]
  },
  {
   "cell_type": "code",
   "execution_count": 67,
   "id": "5d23ea09-71bb-490f-8b63-16bd93476e44",
   "metadata": {},
   "outputs": [],
   "source": [
    "y_pred = knn_final.predict(X_test)"
   ]
  },
  {
   "cell_type": "code",
   "execution_count": 68,
   "id": "f8ec32d6-9cc2-40b3-9774-01597fab9c2b",
   "metadata": {},
   "outputs": [
    {
     "data": {
      "text/plain": [
       "2.242279663281089"
      ]
     },
     "execution_count": 68,
     "metadata": {},
     "output_type": "execute_result"
    }
   ],
   "source": [
    "np.sqrt(mean_squared_error(Y_test,y_pred))"
   ]
  },
  {
   "cell_type": "markdown",
   "id": "772bca18-6e25-43af-b556-aed3ab91a6c0",
   "metadata": {},
   "source": [
    "- We reduced our error from 2.39 to 2.24.So our final model is successful"
   ]
  },
  {
   "cell_type": "markdown",
   "id": "6b0de728-9a22-4c0f-b00f-d91d1873e740",
   "metadata": {},
   "source": [
    "### Neural Networks"
   ]
  },
  {
   "cell_type": "code",
   "execution_count": 91,
   "id": "f0793fe7-77ba-4693-9e59-1282de2e92c5",
   "metadata": {},
   "outputs": [],
   "source": [
    "scaler = StandardScaler()\n",
    "X_train_scaled = scaler.fit_transform(X_train)\n",
    "X_test_scaled = scaler.fit_transform(X_test)"
   ]
  },
  {
   "cell_type": "code",
   "execution_count": 117,
   "id": "bd796f75-09d9-4f6e-9ade-d34a2745b54e",
   "metadata": {},
   "outputs": [],
   "source": [
    "mlp_model = MLPRegressor().fit(X_train_scaled, Y_train)"
   ]
  },
  {
   "cell_type": "code",
   "execution_count": 118,
   "id": "ce6d4c8b-c17b-454e-991f-ede63dd49d30",
   "metadata": {},
   "outputs": [],
   "source": [
    "y_pred = mlp_model.predict(X_test_scaled)"
   ]
  },
  {
   "cell_type": "code",
   "execution_count": 119,
   "id": "9e7f6068-7343-4163-a2b4-4544b219181f",
   "metadata": {},
   "outputs": [
    {
     "data": {
      "text/plain": [
       "4.6454616551808"
      ]
     },
     "execution_count": 119,
     "metadata": {},
     "output_type": "execute_result"
    }
   ],
   "source": [
    "np.sqrt(mean_squared_error(Y_test, y_pred))"
   ]
  },
  {
   "cell_type": "markdown",
   "id": "537cd697-35ca-42d8-8a8c-4beecfac935a",
   "metadata": {},
   "source": [
    "### Model Tuning"
   ]
  },
  {
   "cell_type": "code",
   "execution_count": 121,
   "id": "f9e4379d-1731-4f66-a991-ff91646e72b5",
   "metadata": {},
   "outputs": [],
   "source": [
    "mlp_params = {\"alpha\": [0.1,0.01,0.05],\n",
    "             \"hidden_layer_sizes\": [(10,20), (100,100)]}\n"
   ]
  },
  {
   "cell_type": "markdown",
   "id": "a2affdfd-26e9-499b-9215-062ad1c1743e",
   "metadata": {},
   "source": [
    "- **alpha** :  L2 penalty (regularization term) parameter. default = 0.0001\n",
    "- **hidden_layer_sizes** :  The ith element represents the number of neurons in the ith\n",
    "    hidden layer. default = default=(100,)"
   ]
  },
  {
   "cell_type": "code",
   "execution_count": 140,
   "id": "1b3b43e6-4dab-4673-9c9b-aa3e789d3d2a",
   "metadata": {},
   "outputs": [],
   "source": [
    "mlp_cv_model = GridSearchCV(mlp_model, mlp_params, cv = 5).fit(X_train_scaled,Y_train)"
   ]
  },
  {
   "cell_type": "code",
   "execution_count": 141,
   "id": "8d636f9f-88f2-4604-abd3-64284a002d2a",
   "metadata": {},
   "outputs": [
    {
     "data": {
      "text/plain": [
       "{'alpha': 0.1, 'hidden_layer_sizes': (100, 100)}"
      ]
     },
     "execution_count": 141,
     "metadata": {},
     "output_type": "execute_result"
    }
   ],
   "source": [
    "mlp_cv_model.best_params_"
   ]
  },
  {
   "cell_type": "code",
   "execution_count": 145,
   "id": "d01c8343-965c-4c07-95a4-fd14bbe576d2",
   "metadata": {},
   "outputs": [],
   "source": [
    "mlp_tuned = MLPRegressor(alpha = 0.1, hidden_layer_sizes = (100,100)).fit(X_train_scaled, Y_train)"
   ]
  },
  {
   "cell_type": "code",
   "execution_count": 146,
   "id": "a1d8686d-1bbc-406c-9a5c-5cdd16bdaade",
   "metadata": {},
   "outputs": [],
   "source": [
    "y_pred = mlp_tuned.predict(X_test_scaled)"
   ]
  },
  {
   "cell_type": "code",
   "execution_count": 147,
   "id": "227c3882-a75d-405a-ae3a-94d06562ab3b",
   "metadata": {},
   "outputs": [
    {
     "data": {
      "text/plain": [
       "2.784155471459074"
      ]
     },
     "execution_count": 147,
     "metadata": {},
     "output_type": "execute_result"
    }
   ],
   "source": [
    "np.sqrt(mean_squared_error(Y_test, y_pred))"
   ]
  },
  {
   "cell_type": "markdown",
   "id": "b7258bd3-32e0-4cff-92d4-8d467490a655",
   "metadata": {},
   "source": [
    "-  The error rate was halved."
   ]
  },
  {
   "cell_type": "markdown",
   "id": "a2e73bef-ceb9-4ebe-9f53-86cba578e046",
   "metadata": {},
   "source": [
    "### Random Forest Regression"
   ]
  },
  {
   "cell_type": "code",
   "execution_count": 148,
   "id": "b030d6fe-b3b7-418c-adb5-5247426d26c6",
   "metadata": {},
   "outputs": [],
   "source": [
    "rf_model = RandomForestRegressor(random_state = 42).fit(X_train, Y_train)"
   ]
  },
  {
   "cell_type": "code",
   "execution_count": 150,
   "id": "d0bcebba-711b-4983-86be-174f0d857788",
   "metadata": {},
   "outputs": [],
   "source": [
    "rf_params = {\"max_depth\": [5,8,10],\n",
    "            \"max_features\": [1,5,10],\n",
    "            \"n_estimators\": [200, 500,2000],\n",
    "            \"min_samples_split\": [2,10]}"
   ]
  },
  {
   "cell_type": "markdown",
   "id": "b50e2554-f98a-4ce0-af8b-ff95bcc11cd8",
   "metadata": {},
   "source": [
    "- **max_depth** : The maximum depth of the tree. If None, then nodes are expanded until\n",
    "    all leaves are pure or until all leaves contain less than\n",
    "    min_samples_split samples.\n",
    "- **max_features** : The number of features to consider when looking for the best split. \n",
    "- **n_estimators** : The number of trees in the forest.\n",
    "- **min_samples_split** :The minimum number of samples required to split an internal node."
   ]
  },
  {
   "cell_type": "code",
   "execution_count": 152,
   "id": "3a6238ba-f2e8-48b9-9f27-83f89ba701e5",
   "metadata": {},
   "outputs": [
    {
     "name": "stdout",
     "output_type": "stream",
     "text": [
      "Fitting 10 folds for each of 54 candidates, totalling 540 fits\n"
     ]
    },
    {
     "name": "stderr",
     "output_type": "stream",
     "text": [
      "C:\\Users\\BARKIN\\anaconda3\\lib\\site-packages\\sklearn\\model_selection\\_validation.py:372: FitFailedWarning: \n",
      "180 fits failed out of a total of 540.\n",
      "The score on these train-test partitions for these parameters will be set to nan.\n",
      "If these failures are not expected, you can try to debug them by setting error_score='raise'.\n",
      "\n",
      "Below are more details about the failures:\n",
      "--------------------------------------------------------------------------------\n",
      "180 fits failed with the following error:\n",
      "Traceback (most recent call last):\n",
      "  File \"C:\\Users\\BARKIN\\anaconda3\\lib\\site-packages\\sklearn\\model_selection\\_validation.py\", line 680, in _fit_and_score\n",
      "    estimator.fit(X_train, y_train, **fit_params)\n",
      "  File \"C:\\Users\\BARKIN\\anaconda3\\lib\\site-packages\\sklearn\\ensemble\\_forest.py\", line 450, in fit\n",
      "    trees = Parallel(\n",
      "  File \"C:\\Users\\BARKIN\\anaconda3\\lib\\site-packages\\joblib\\parallel.py\", line 1041, in __call__\n",
      "    if self.dispatch_one_batch(iterator):\n",
      "  File \"C:\\Users\\BARKIN\\anaconda3\\lib\\site-packages\\joblib\\parallel.py\", line 859, in dispatch_one_batch\n",
      "    self._dispatch(tasks)\n",
      "  File \"C:\\Users\\BARKIN\\anaconda3\\lib\\site-packages\\joblib\\parallel.py\", line 777, in _dispatch\n",
      "    job = self._backend.apply_async(batch, callback=cb)\n",
      "  File \"C:\\Users\\BARKIN\\anaconda3\\lib\\site-packages\\joblib\\_parallel_backends.py\", line 208, in apply_async\n",
      "    result = ImmediateResult(func)\n",
      "  File \"C:\\Users\\BARKIN\\anaconda3\\lib\\site-packages\\joblib\\_parallel_backends.py\", line 572, in __init__\n",
      "    self.results = batch()\n",
      "  File \"C:\\Users\\BARKIN\\anaconda3\\lib\\site-packages\\joblib\\parallel.py\", line 262, in __call__\n",
      "    return [func(*args, **kwargs)\n",
      "  File \"C:\\Users\\BARKIN\\anaconda3\\lib\\site-packages\\joblib\\parallel.py\", line 262, in <listcomp>\n",
      "    return [func(*args, **kwargs)\n",
      "  File \"C:\\Users\\BARKIN\\anaconda3\\lib\\site-packages\\sklearn\\utils\\fixes.py\", line 216, in __call__\n",
      "    return self.function(*args, **kwargs)\n",
      "  File \"C:\\Users\\BARKIN\\anaconda3\\lib\\site-packages\\sklearn\\ensemble\\_forest.py\", line 185, in _parallel_build_trees\n",
      "    tree.fit(X, y, sample_weight=curr_sample_weight, check_input=False)\n",
      "  File \"C:\\Users\\BARKIN\\anaconda3\\lib\\site-packages\\sklearn\\tree\\_classes.py\", line 1315, in fit\n",
      "    super().fit(\n",
      "  File \"C:\\Users\\BARKIN\\anaconda3\\lib\\site-packages\\sklearn\\tree\\_classes.py\", line 308, in fit\n",
      "    raise ValueError(\"max_features must be in (0, n_features]\")\n",
      "ValueError: max_features must be in (0, n_features]\n",
      "\n",
      "  warnings.warn(some_fits_failed_message, FitFailedWarning)\n",
      "C:\\Users\\BARKIN\\anaconda3\\lib\\site-packages\\sklearn\\model_selection\\_search.py:969: UserWarning: One or more of the test scores are non-finite: [0.95268017 0.9532084  0.95413779 0.95066489 0.95090289 0.95194069\n",
      " 0.97521082 0.97521541 0.97518081 0.97352393 0.97376062 0.97381442\n",
      "        nan        nan        nan        nan        nan        nan\n",
      " 0.9768139  0.97720625 0.97769252 0.96842863 0.96918544 0.96936353\n",
      " 0.97997146 0.97996327 0.98001452 0.97939423 0.97941036 0.97928452\n",
      "        nan        nan        nan        nan        nan        nan\n",
      " 0.98107906 0.98127886 0.98132914 0.96914325 0.97004858 0.97006672\n",
      " 0.979895   0.97990546 0.97990729 0.97933767 0.97939713 0.97924158\n",
      "        nan        nan        nan        nan        nan        nan]\n",
      "  warnings.warn(\n"
     ]
    }
   ],
   "source": [
    "rf_cv_model = GridSearchCV(rf_model, rf_params, cv = 10, verbose = 1, n_jobs = -1).fit(X_train, Y_train)"
   ]
  },
  {
   "cell_type": "code",
   "execution_count": 153,
   "id": "74441501-4832-426e-8bed-df2e9e908d9c",
   "metadata": {},
   "outputs": [
    {
     "data": {
      "text/plain": [
       "{'max_depth': 10,\n",
       " 'max_features': 1,\n",
       " 'min_samples_split': 2,\n",
       " 'n_estimators': 2000}"
      ]
     },
     "execution_count": 153,
     "metadata": {},
     "output_type": "execute_result"
    }
   ],
   "source": [
    "rf_cv_model.best_params_"
   ]
  },
  {
   "cell_type": "code",
   "execution_count": 156,
   "id": "0ee5d08d-af23-46f8-bead-859bc76799f9",
   "metadata": {},
   "outputs": [],
   "source": [
    "rf_final_model = RandomForestRegressor(random_state = 42, max_depth = 10, max_features = 1,\n",
    "                                       min_samples_split = 2, n_estimators = 2000).fit(X_train, Y_train)"
   ]
  },
  {
   "cell_type": "code",
   "execution_count": 160,
   "id": "b2c2268f-2c46-4f95-947b-4df81a0715a8",
   "metadata": {},
   "outputs": [
    {
     "data": {
      "text/plain": [
       "1.2697318059723293"
      ]
     },
     "execution_count": 160,
     "metadata": {},
     "output_type": "execute_result"
    }
   ],
   "source": [
    "y_pred = rf_final_model.predict(X_test)\n",
    "np.sqrt(mean_squared_error(Y_test, y_pred))"
   ]
  },
  {
   "cell_type": "markdown",
   "id": "2c0662ec-2c59-47f8-9c2a-fcc18aaffc3b",
   "metadata": {},
   "source": [
    "### Variable Importance"
   ]
  },
  {
   "cell_type": "code",
   "execution_count": 161,
   "id": "718368a1-b0b6-4b19-9a44-c6a541f16498",
   "metadata": {},
   "outputs": [
    {
     "data": {
      "image/png": "[encoded data removed]",
      "text/plain": [
       "<Figure size 432x288 with 1 Axes>"
      ]
     },
     "metadata": {
      "needs_background": "light"
     },
     "output_type": "display_data"
    }
   ],
   "source": [
    "Importance = pd.DataFrame({\"Importance\": rf_final_model.feature_importances_*100},\n",
    "                         index = X_train.columns)\n",
    "Importance.sort_values(by = \"Importance\",\n",
    "                      axis = 0,\n",
    "                      ascending = True).plot(kind = \"barh\",\n",
    "                                            color = \"purple\")\n",
    "plt.xlabel(\"Variable Importance\")\n",
    "plt.gca().legend_ = None"
   ]
  },
  {
   "cell_type": "markdown",
   "id": "cffb263d-95f3-401e-b70a-6fcc84967f72",
   "metadata": {},
   "source": [
    "### XGB"
   ]
  },
  {
   "cell_type": "code",
   "execution_count": 164,
   "id": "2aa0c9c6-9073-4fbb-be3e-f6e3e4a604f0",
   "metadata": {},
   "outputs": [
    {
     "name": "stdout",
     "output_type": "stream",
     "text": [
      "Requirement already satisfied: xgboost in c:\\users\\barkin\\anaconda3\\lib\\site-packages (1.6.0)\n",
      "Requirement already satisfied: numpy in c:\\users\\barkin\\anaconda3\\lib\\site-packages (from xgboost) (1.20.1)\n",
      "Requirement already satisfied: scipy in c:\\users\\barkin\\anaconda3\\lib\\site-packages (from xgboost) (1.6.2)\n"
     ]
    }
   ],
   "source": [
    "!pip install xgboost"
   ]
  },
  {
   "cell_type": "code",
   "execution_count": 165,
   "id": "3395714e-eff8-4572-b42d-808b68ed76f5",
   "metadata": {},
   "outputs": [],
   "source": [
    "import xgboost\n",
    "from xgboost import XGBRegressor"
   ]
  },
  {
   "cell_type": "code",
   "execution_count": 166,
   "id": "d5d68410-f58c-4d5b-ad6a-463aca5d9f77",
   "metadata": {},
   "outputs": [],
   "source": [
    "xgb = XGBRegressor().fit(X_train, Y_train)"
   ]
  },
  {
   "cell_type": "code",
   "execution_count": 167,
   "id": "5f40758a-033a-4a19-b241-ac6bb2dc1464",
   "metadata": {},
   "outputs": [],
   "source": [
    "y_pred = xgb.predict(X_test)"
   ]
  },
  {
   "cell_type": "code",
   "execution_count": 168,
   "id": "01831b4f-260c-4056-9331-af74c89a994b",
   "metadata": {},
   "outputs": [
    {
     "data": {
      "text/plain": [
       "0.6046228927047991"
      ]
     },
     "execution_count": 168,
     "metadata": {},
     "output_type": "execute_result"
    }
   ],
   "source": [
    "np.sqrt(mean_squared_error(Y_test, y_pred))"
   ]
  },
  {
   "cell_type": "code",
   "execution_count": 169,
   "id": "d70c7875-1d5c-4b8d-9d38-b2876dda1680",
   "metadata": {},
   "outputs": [],
   "source": [
    "xgb_params = {\"learning_rate\": [0.1,0.01],\n",
    "             \"max_depth\": [2,3,5],\n",
    "             \"n_estimators\": [100,200],\n",
    "             \"colsample_bytree\": [0.4,0.7,1]}"
   ]
  },
  {
   "cell_type": "code",
   "execution_count": 177,
   "id": "3df2d23e-71ab-4bd1-b332-2ee05441c223",
   "metadata": {},
   "outputs": [
    {
     "name": "stdout",
     "output_type": "stream",
     "text": [
      "Fitting 5 folds for each of 36 candidates, totalling 180 fits\n"
     ]
    }
   ],
   "source": [
    "xgb_cv_model = GridSearchCV(xgb, xgb_params, cv = 5, n_jobs = -1, verbose = 2).fit(X_train, Y_train)"
   ]
  },
  {
   "cell_type": "code",
   "execution_count": 172,
   "id": "e783a95e-1434-4cf0-972b-32337d1069b7",
   "metadata": {},
   "outputs": [
    {
     "data": {
      "text/plain": [
       "{'colsample_bytree': 1,\n",
       " 'learning_rate': 0.1,\n",
       " 'max_depth': 5,\n",
       " 'n_estimators': 200}"
      ]
     },
     "execution_count": 172,
     "metadata": {},
     "output_type": "execute_result"
    }
   ],
   "source": [
    "xgb_cv_model.best_params_"
   ]
  },
  {
   "cell_type": "code",
   "execution_count": 173,
   "id": "83562be5-7edb-4df0-8535-a6521acbf780",
   "metadata": {},
   "outputs": [],
   "source": [
    "xgb_final_model = XGBRegressor(colsample_bytree = 1, learning_rate = 0.1, max_depth = 5, n_estimators = 200).fit(X_train, Y_train)"
   ]
  },
  {
   "cell_type": "code",
   "execution_count": 174,
   "id": "2dbfcfb8-f3bd-4598-8efa-490a72ea9e50",
   "metadata": {},
   "outputs": [],
   "source": [
    "y_pred = xgb_final_model.predict(X_test)"
   ]
  },
  {
   "cell_type": "code",
   "execution_count": 175,
   "id": "28731ac6-9e90-47dc-aca6-ea4f9ce8de0b",
   "metadata": {},
   "outputs": [
    {
     "data": {
      "text/plain": [
       "0.7383519234871362"
      ]
     },
     "execution_count": 175,
     "metadata": {},
     "output_type": "execute_result"
    }
   ],
   "source": [
    "np.sqrt(mean_squared_error(Y_test, y_pred))"
   ]
  },
  {
   "cell_type": "markdown",
   "id": "57a179f2-3b0f-4d1f-88d5-2b7ce8dbb938",
   "metadata": {},
   "source": [
    "- Sometimes the default parameters can give more accurate results."
   ]
  },
  {
   "cell_type": "markdown",
   "id": "4ee22ccf-8867-409f-bffe-36ca942473ed",
   "metadata": {},
   "source": [
    "### Variable Importance"
   ]
  },
  {
   "cell_type": "code",
   "execution_count": 178,
   "id": "e1e056a3-73f8-4584-9f27-83e0f44d82af",
   "metadata": {},
   "outputs": [
    {
     "data": {
      "image/png": "[encoded data removed]",
      "text/plain": [
       "<Figure size 432x288 with 1 Axes>"
      ]
     },
     "metadata": {
      "needs_background": "light"
     },
     "output_type": "display_data"
    }
   ],
   "source": [
    "Importance = pd.DataFrame({\"Importance\": xgb_final_model.feature_importances_*100},\n",
    "                         index = X_train.columns)\n",
    "Importance.sort_values(by = \"Importance\",\n",
    "                      axis = 0,\n",
    "                      ascending = True).plot(kind = \"barh\",\n",
    "                                            color = \"purple\")\n",
    "plt.xlabel(\"Variable Importance\")\n",
    "plt.gca().legend_ = None"
   ]
  },
  {
   "cell_type": "markdown",
   "id": "d80fa2d7-0de6-4b5c-94d0-78e360030eb2",
   "metadata": {},
   "source": [
    "### Result"
   ]
  },
  {
   "cell_type": "markdown",
   "id": "b5c68cfd-54f2-4f72-9de8-8c0dc4afc7ba",
   "metadata": {},
   "source": [
    "- Best method is  XGBoost. Relative_compactness is more important then the other features.\n",
    "- Second importance feature is surface area.\n",
    "- We can find a correct predict with XGBoost. This project is importance for our planet. Because in the future we'll need renewable energy more than now."
   ]
  }
 ],
 "metadata": {
  "kernelspec": {
   "display_name": "Python 3",
   "language": "python",
   "name": "python3"
  },
  "language_info": {
   "codemirror_mode": {
    "name": "ipython",
    "version": 3
   },
   "file_extension": ".py",
   "mimetype": "text/x-python",
   "name": "python",
   "nbconvert_exporter": "python",
   "pygments_lexer": "ipython3",
   "version": "3.8.8"
  }
 },
 "nbformat": 4,
 "nbformat_minor": 5
}
